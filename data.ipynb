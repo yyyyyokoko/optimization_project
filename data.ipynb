{
 "cells": [
  {
   "cell_type": "code",
   "execution_count": 1,
   "metadata": {},
   "outputs": [],
   "source": [
    "import pandas as pd\n"
   ]
  },
  {
   "cell_type": "code",
   "execution_count": 34,
   "metadata": {},
   "outputs": [],
   "source": [
    "building_metadata = pd.read_csv(\"building_metadata.csv\")\n",
    "weather_train = pd.read_csv(\"weather_train.csv\")\n",
    "data = pd.read_csv(\"train.csv\")"
   ]
  },
  {
   "cell_type": "code",
   "execution_count": 45,
   "metadata": {},
   "outputs": [],
   "source": [
    "site0_building = building_metadata.loc[building_metadata['site_id'] == 0, :]\n",
    "site0_weather = weather_train.loc[weather_train.site_id == 0,:]\n",
    "#values = site0_building.building_id.unique()\n",
    "site0_data = data.loc[(data.building_id >= 0) & (data.building_id <= 104) , :]\n",
    "site0_data_0 = site0_data.loc[site0_data.meter == 0, :]"
   ]
  },
  {
   "cell_type": "code",
   "execution_count": 60,
   "metadata": {},
   "outputs": [],
   "source": [
    "joined_df = site0_data_0.join(site0_weather.set_index('timestamp'), on='timestamp')\n",
    "#joined_df.to_csv(\"joined_weather_train.csv\")"
   ]
  },
  {
   "cell_type": "code",
   "execution_count": 67,
   "metadata": {},
   "outputs": [],
   "source": [
    "temp = joined_df.drop(columns='site_id')\n",
    "joined_df2 = temp.join(site0_building.set_index('building_id'), on = 'building_id')\n",
    "#joined_df2.to_csv(\"joined_weather_train_building.csv\")"
   ]
  },
  {
   "cell_type": "code",
   "execution_count": 68,
   "metadata": {},
   "outputs": [],
   "source": []
  },
  {
   "cell_type": "code",
   "execution_count": null,
   "metadata": {},
   "outputs": [],
   "source": []
  }
 ],
 "metadata": {
  "kernelspec": {
   "display_name": "Python 3",
   "language": "python",
   "name": "python3"
  },
  "language_info": {
   "codemirror_mode": {
    "name": "ipython",
    "version": 3
   },
   "file_extension": ".py",
   "mimetype": "text/x-python",
   "name": "python",
   "nbconvert_exporter": "python",
   "pygments_lexer": "ipython3",
   "version": "3.7.4"
  }
 },
 "nbformat": 4,
 "nbformat_minor": 2
}
